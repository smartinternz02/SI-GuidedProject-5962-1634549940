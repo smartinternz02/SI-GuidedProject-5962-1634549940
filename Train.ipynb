{
 "cells": [
  {
   "cell_type": "code",
   "execution_count": 1,
   "metadata": {},
   "outputs": [],
   "source": [
    "from keras.preprocessing.image import ImageDataGenerator\n",
    "from keras.models import Sequential\n",
    "from keras.layers import Conv2D, MaxPooling2D, Dense, Dropout, Flatten\n",
    "from keras.layers import MaxPooling2D"
   ]
  },
  {
   "cell_type": "code",
   "execution_count": 2,
   "metadata": {},
   "outputs": [],
   "source": [
    "from keras.preprocessing.image import ImageDataGenerator\n",
    "train_datagen = ImageDataGenerator(rescale = 1./255,\n",
    "                                   shear_range = 0.2,\n",
    "                                   zoom_range = 0.2,\n",
    "                                   horizontal_flip = True)\n",
    "\n",
    "test_datagen = ImageDataGenerator(rescale = 1./255)"
   ]
  },
  {
   "cell_type": "code",
   "execution_count": 3,
   "metadata": {},
   "outputs": [
    {
     "name": "stdout",
     "output_type": "stream",
     "text": [
      "Found 1284 images belonging to 2 classes.\n",
      "Found 320 images belonging to 2 classes.\n"
     ]
    }
   ],
   "source": [
    "x_train = train_datagen.flow_from_directory(r'C:\\Users\\Darsana\\Iceberg Smartinternz\\Iceberg Detection dataset\\dataset\\train',target_size=(75,75),batch_size= 32, class_mode='binary')\n",
    "x_test = test_datagen.flow_from_directory(r'C:\\Users\\Darsana\\Iceberg Smartinternz\\Iceberg Detection dataset\\dataset\\test',target_size=(75,75),batch_size= 32, class_mode='binary')"
   ]
  },
  {
   "cell_type": "code",
   "execution_count": 4,
   "metadata": {},
   "outputs": [],
   "source": [
    "model=Sequential()"
   ]
  },
  {
   "cell_type": "code",
   "execution_count": 5,
   "metadata": {},
   "outputs": [],
   "source": [
    "model.add(Conv2D(64,(3,3), activation='relu', input_shape=(75,75,3)))"
   ]
  },
  {
   "cell_type": "code",
   "execution_count": 6,
   "metadata": {},
   "outputs": [],
   "source": [
    "model.add(MaxPooling2D(pool_size=(3,3), strides=(2,2)))"
   ]
  },
  {
   "cell_type": "code",
   "execution_count": 7,
   "metadata": {},
   "outputs": [],
   "source": [
    "model.add(Flatten())"
   ]
  },
  {
   "cell_type": "code",
   "execution_count": 8,
   "metadata": {},
   "outputs": [],
   "source": [
    "model.add(Dense(units= 512, kernel_initializer=\"uniform\", activation=\"relu\"))\n",
    "model.add(Dense(units = 256, kernel_initializer=\"uniform\", activation=\"relu\"))\n",
    "model.add(Dense(units = 1, kernel_initializer=\"uniform\", activation=\"sigmoid\"))"
   ]
  },
  {
   "cell_type": "code",
   "execution_count": 9,
   "metadata": {},
   "outputs": [],
   "source": [
    "model.compile(loss=\"binary_crossentropy\",optimizer=\"adam\",metrics=[\"accuracy\"])"
   ]
  },
  {
   "cell_type": "code",
   "execution_count": 10,
   "metadata": {},
   "outputs": [
    {
     "name": "stderr",
     "output_type": "stream",
     "text": [
      "C:\\Users\\Darsana\\Anaconda3\\lib\\site-packages\\keras\\engine\\training.py:1972: UserWarning: `Model.fit_generator` is deprecated and will be removed in a future version. Please use `Model.fit`, which supports generators.\n",
      "  warnings.warn('`Model.fit_generator` is deprecated and '\n"
     ]
    },
    {
     "name": "stdout",
     "output_type": "stream",
     "text": [
      "Epoch 1/10\n",
      "40/40 [==============================] - 27s 624ms/step - loss: 0.7419 - accuracy: 0.4880 - val_loss: 0.6889 - val_accuracy: 0.5000\n",
      "Epoch 2/10\n",
      "40/40 [==============================] - 25s 623ms/step - loss: 0.6913 - accuracy: 0.5272 - val_loss: 0.6805 - val_accuracy: 0.5375\n",
      "Epoch 3/10\n",
      "40/40 [==============================] - 27s 675ms/step - loss: 0.6639 - accuracy: 0.5879 - val_loss: 0.5566 - val_accuracy: 0.7281\n",
      "Epoch 4/10\n",
      "40/40 [==============================] - 25s 614ms/step - loss: 0.6563 - accuracy: 0.5871 - val_loss: 0.5795 - val_accuracy: 0.7219\n",
      "Epoch 5/10\n",
      "40/40 [==============================] - 24s 608ms/step - loss: 0.5972 - accuracy: 0.6589 - val_loss: 0.5691 - val_accuracy: 0.7469\n",
      "Epoch 6/10\n",
      "40/40 [==============================] - 25s 612ms/step - loss: 0.5730 - accuracy: 0.6837 - val_loss: 0.5764 - val_accuracy: 0.6969\n",
      "Epoch 7/10\n",
      "40/40 [==============================] - 24s 605ms/step - loss: 0.5781 - accuracy: 0.6685 - val_loss: 0.5045 - val_accuracy: 0.7312\n",
      "Epoch 8/10\n",
      "40/40 [==============================] - 24s 607ms/step - loss: 0.5247 - accuracy: 0.7220 - val_loss: 0.4707 - val_accuracy: 0.8031\n",
      "Epoch 9/10\n",
      "40/40 [==============================] - 24s 604ms/step - loss: 0.5342 - accuracy: 0.7101 - val_loss: 0.5432 - val_accuracy: 0.6219\n",
      "Epoch 10/10\n",
      "40/40 [==============================] - 24s 607ms/step - loss: 0.4893 - accuracy: 0.7436 - val_loss: 0.4004 - val_accuracy: 0.8250\n"
     ]
    },
    {
     "data": {
      "text/plain": [
       "<keras.callbacks.History at 0x1f58240ab38>"
      ]
     },
     "execution_count": 10,
     "metadata": {},
     "output_type": "execute_result"
    }
   ],
   "source": [
    "model.fit_generator(x_train,steps_per_epoch=40, epochs= 10, validation_data=x_test, validation_steps=10)"
   ]
  },
  {
   "cell_type": "code",
   "execution_count": 11,
   "metadata": {},
   "outputs": [],
   "source": [
    "model.save(\"iceberg.h5\")"
   ]
  },
  {
   "cell_type": "code",
   "execution_count": 37,
   "metadata": {},
   "outputs": [
    {
     "data": {
      "text/plain": [
       "'2.6.0'"
      ]
     },
     "execution_count": 37,
     "metadata": {},
     "output_type": "execute_result"
    }
   ],
   "source": [
    "import tensorflow\n",
    "tensorflow.__version__\n"
   ]
  },
  {
   "cell_type": "code",
   "execution_count": 12,
   "metadata": {},
   "outputs": [
    {
     "data": {
      "text/plain": [
       "{'Iceberg': 0, 'Ship': 1}"
      ]
     },
     "execution_count": 12,
     "metadata": {},
     "output_type": "execute_result"
    }
   ],
   "source": [
    "x_train.class_indices"
   ]
  },
  {
   "cell_type": "code",
   "execution_count": null,
   "metadata": {},
   "outputs": [],
   "source": []
  }
 ],
 "metadata": {
  "kernelspec": {
   "display_name": "Python 3",
   "language": "python",
   "name": "python3"
  },
  "language_info": {
   "codemirror_mode": {
    "name": "ipython",
    "version": 3
   },
   "file_extension": ".py",
   "mimetype": "text/x-python",
   "name": "python",
   "nbconvert_exporter": "python",
   "pygments_lexer": "ipython3",
   "version": "3.7.3"
  }
 },
 "nbformat": 4,
 "nbformat_minor": 2
}
